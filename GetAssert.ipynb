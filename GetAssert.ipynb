{
 "cells": [
  {
   "cell_type": "code",
   "execution_count": 107,
   "metadata": {
    "collapsed": true
   },
   "outputs": [],
   "source": [
    "import os  \n",
    "import pandas as pd"
   ]
  },
  {
   "cell_type": "code",
   "execution_count": 182,
   "metadata": {},
   "outputs": [
    {
     "name": "stdout",
     "output_type": "stream",
     "text": [
      "abstract-class-and-interface default\n",
      "./data/java-basic/abstract-class-and-interface/src/test/java/com.tianmaying/SimpleTest.java\n",
      "blog-sample default\n",
      "./data/java-basic/blog-sample/src/test/java/com/tianmaying/SimpleTest.java\n",
      "class task1\n",
      "./data/java-basic/class+task1/src/test/java/com/tianmaying/SimpleTest.java\n",
      "collection default\n",
      "./data/java-basic/collection/src/test/java/com/tianmaying/SimpleTest.java\n",
      "control-flow default\n",
      "./data/java-basic/control-flow/src/test/java/com/tianmaying/SimpleTest.java\n",
      "control-flow fibonacci\n",
      "./data/java-basic/control-flow+fibonacci/src/test/java/com/tianmaying/SimpleTest.java\n",
      "control-flow if-else\n",
      "./data/java-basic/control-flow+if-else/src/test/java/com/tianmaying/SimpleTest.java\n",
      "control-flow operator\n",
      "./data/java-basic/control-flow+operator/src/test/java/com/tianmaying/SimpleTest.java\n",
      "data-types default\n",
      "./data/java-basic/data-types/src/test/java/com/tianmaying/SimpleTest.java\n",
      "data-types cast\n",
      "./data/java-basic/data-types+cast/src/test/java/com/tianmaying/SimpleTest.java\n",
      "data-types printArray\n",
      "./data/java-basic/data-types+printArray/src/test/java/com/tianmaying/SimpleTest.java\n",
      "data-types stdin\n",
      "./data/java-basic/data-types+stdin/src/test/java/com/tianmaying/SimpleTest.java\n",
      "date end-of-day\n",
      "./data/java-basic/date+end-of-day/src/test/java/com/tianmaying/SimpleTest.java\n",
      "encapsulation-and-inheritance default\n",
      "./data/java-basic/encapsulation-and-inheritance/src/test/java/com/tianmaying/SimpleTest.java\n",
      "exception default\n",
      "./data/java-basic/exception/src/test/java/com/tianmaying/SimpleTest.java\n",
      "generic-basic get-max\n",
      "./data/java-basic/generic-basic+get-max/src/test/java/com/tianmaying/SimpleTest.java\n",
      "io file-operator\n",
      "./data/java-basic/io+file-operator/src/test/java/com/tianmaying/SimpleTest.java\n",
      "java-environment default\n",
      "./data/java-basic/java-environment/src/test/java/com/tianmaying/SimpleTest.java\n",
      "java-hello-world default\n",
      "./data/java-basic/java-hello-world/src/test/java/com/tianmaying/SimpleTest.java\n",
      "object-orientation-basics car_startup\n",
      "./data/java-basic/object-orientation-basics+car_startup/src/test/java/com/tianmaying/SimpleTest.java\n",
      "object-orientation-basics post_print\n",
      "./data/java-basic/object-orientation-basics+post_print/src/test/java/com/tianmaying/SimpleTest.java\n",
      "object-usage constructor\n",
      "object-usage method-invoke\n",
      "./data/java-basic/object-usage+method-invoke/src/test/java/com/tianmaying/SimpleTest.java\n",
      "operators default\n",
      "./data/java-basic/operators/src/test/java/com/tianmaying/SimpleTest.java\n",
      "operators length\n",
      "./data/java-basic/operators+length/src/test/java/com/tianmaying/SimpleTest.java\n",
      "operators math\n",
      "./data/java-basic/operators+math/src/test/java/com/tianmaying/SimpleTest.java\n",
      "operators single\n",
      "./data/java-basic/operators+single/src/test/java/com/tianmaying/SimpleTest.java\n",
      "reflection copy-properties\n",
      "./data/java-basic/reflection+copy-properties/src/test/java/com/tianmaying/Post.java\n",
      "./data/java-basic/reflection+copy-properties/src/test/java/com/tianmaying/SimpleTest.java\n",
      "static-variable-and-method default\n",
      "./data/java-basic/static-variable-and-method/src/test/java/com/tianmaying/SimpleTest.java\n",
      "string default\n",
      "./data/java-basic/string/src/test/java/com/tianmaying/SimpleTest.java\n"
     ]
    }
   ],
   "source": [
    "path = \"./data/java-basic\"\n",
    "global all_assert\n",
    "all_assert = []\n",
    "def gci(filepath):\n",
    "    global course\n",
    "    global question\n",
    "    global all_assert\n",
    "    files = os.listdir(filepath)  \n",
    "    for fi in files:    \n",
    "        fi_d = os.path.join(filepath,fi)    \n",
    "        if os.path.isdir(fi_d):\n",
    "            question_name = fi_d[len('./data/java-basic/'):]\n",
    "#             print(question_name, question_name.endswith(\"\\\\src\\\\test\\\\java\\\\com\\\\tianmaying\"))\n",
    "            if '\\\\' not in question_name:\n",
    "#                 print(question_name)\n",
    "                if '+' in question_name:\n",
    "                    index = question_name.index('+')\n",
    "                    print(question_name[:index], question_name[index+1:])\n",
    "                    course = question_name[:index]\n",
    "                    question = question_name[index+1:]\n",
    "                else:\n",
    "                    print(question_name, \"default\")\n",
    "                    course = question_name\n",
    "                    question = \"default\"\n",
    "                gci(fi_d)\n",
    "            if fi_d.endswith(\"\\\\src\") or fi_d.endswith(\"\\\\src\\\\test\") \\\n",
    "                or fi_d.endswith(\"\\\\src\\\\test\\\\java\") or fi_d.endswith(\"\\\\src\\\\test\\\\java\\\\com\") or \\\n",
    "                fi_d.endswith(\"\\\\src\\\\test\\\\java\\\\com\\\\tianmaying\") or fi_d.endswith(\"\\\\src\\\\test\\\\java\\\\com.tianmaying\"):\n",
    "#                 print(question_name)\n",
    "                gci(fi_d)   \n",
    "#             print(os.path.join(filepath, fi_d))\n",
    "#             gci(fi_d)   \n",
    "        elif \"\\\\src\\\\test\\\\java\\\\com\\\\tianmaying\" in fi_d or \"\\\\src\\\\test\\\\java\\\\com.tianmaying\" in fi_d:      \n",
    "#              print(os.path.join(filepath,fi_d))#递归遍历/root目录下所有文件 \n",
    "            file_path = fi_d.replace(\"\\\\\", \"/\") \n",
    "            print(file_path)\n",
    "            fun_name = file_path.split(\"/\")[-1]\n",
    "            assert_list = get_assert(file_path)\n",
    "            for assert_item in assert_list:\n",
    "                tmp_list = []\n",
    "                tmp_list.append(course)\n",
    "                tmp_list.append(question)\n",
    "                tmp_list.append(fun_name)\n",
    "                tmp_list.append(assert_item[0])\n",
    "                tmp_list.append(assert_item[1])\n",
    "                all_assert.append(tmp_list)\n",
    "            pass\n",
    "gci(path)"
   ]
  },
  {
   "cell_type": "code",
   "execution_count": 183,
   "metadata": {},
   "outputs": [
    {
     "data": {
      "text/html": [
       "<div>\n",
       "<style>\n",
       "    .dataframe thead tr:only-child th {\n",
       "        text-align: right;\n",
       "    }\n",
       "\n",
       "    .dataframe thead th {\n",
       "        text-align: left;\n",
       "    }\n",
       "\n",
       "    .dataframe tbody tr th {\n",
       "        vertical-align: top;\n",
       "    }\n",
       "</style>\n",
       "<table border=\"1\" class=\"dataframe\">\n",
       "  <thead>\n",
       "    <tr style=\"text-align: right;\">\n",
       "      <th></th>\n",
       "      <th>lesson</th>\n",
       "      <th>question</th>\n",
       "      <th>title</th>\n",
       "      <th>assert</th>\n",
       "    </tr>\n",
       "  </thead>\n",
       "  <tbody>\n",
       "    <tr>\n",
       "      <th>0</th>\n",
       "      <td>abstract-class-and-interface</td>\n",
       "      <td>default</td>\n",
       "      <td>使用Map实现PostRepository</td>\n",
       "      <td>Assert.assertEquals(\"实现中使用Map类型的成员变量\", 1, fiel...</td>\n",
       "    </tr>\n",
       "    <tr>\n",
       "      <th>1</th>\n",
       "      <td>abstract-class-and-interface</td>\n",
       "      <td>default</td>\n",
       "      <td>使用Map实现PostRepository</td>\n",
       "      <td>Assert.assertEquals(\"实现中使用Map类型的成员变量\", Map.cla...</td>\n",
       "    </tr>\n",
       "    <tr>\n",
       "      <th>2</th>\n",
       "      <td>abstract-class-and-interface</td>\n",
       "      <td>default</td>\n",
       "      <td>使用Map实现PostRepository</td>\n",
       "      <td>Assert.assertEquals(\"请不要修改Map类型变量的命名\", 1, fiel...</td>\n",
       "    </tr>\n",
       "    <tr>\n",
       "      <th>3</th>\n",
       "      <td>abstract-class-and-interface</td>\n",
       "      <td>default</td>\n",
       "      <td>添加博客</td>\n",
       "      <td>Assert.assertEquals(\"未能正确添加博客\", size + 1, getI...</td>\n",
       "    </tr>\n",
       "    <tr>\n",
       "      <th>4</th>\n",
       "      <td>abstract-class-and-interface</td>\n",
       "      <td>default</td>\n",
       "      <td>添加博客</td>\n",
       "      <td>Assert.assertEquals(\"未能正确添加博客\", post, getInner...</td>\n",
       "    </tr>\n",
       "  </tbody>\n",
       "</table>\n",
       "</div>"
      ],
      "text/plain": [
       "                         lesson question                  title  \\\n",
       "0  abstract-class-and-interface  default  使用Map实现PostRepository   \n",
       "1  abstract-class-and-interface  default  使用Map实现PostRepository   \n",
       "2  abstract-class-and-interface  default  使用Map实现PostRepository   \n",
       "3  abstract-class-and-interface  default                   添加博客   \n",
       "4  abstract-class-and-interface  default                   添加博客   \n",
       "\n",
       "                                              assert  \n",
       "0  Assert.assertEquals(\"实现中使用Map类型的成员变量\", 1, fiel...  \n",
       "1  Assert.assertEquals(\"实现中使用Map类型的成员变量\", Map.cla...  \n",
       "2  Assert.assertEquals(\"请不要修改Map类型变量的命名\", 1, fiel...  \n",
       "3  Assert.assertEquals(\"未能正确添加博客\", size + 1, getI...  \n",
       "4  Assert.assertEquals(\"未能正确添加博客\", post, getInner...  "
      ]
     },
     "execution_count": 183,
     "metadata": {},
     "output_type": "execute_result"
    }
   ],
   "source": [
    "assert_df = pd.DataFrame(all_assert, columns=['lesson', 'question', 'fun', 'title', 'assert'])\n",
    "del assert_df['fun']\n",
    "assert_df.head()"
   ]
  },
  {
   "cell_type": "code",
   "execution_count": 184,
   "metadata": {
    "collapsed": true
   },
   "outputs": [],
   "source": [
    "assert_df.to_csv(\"./data/assert.csv\", index=False, encoding=\"utf-8\")"
   ]
  },
  {
   "cell_type": "code",
   "execution_count": 186,
   "metadata": {},
   "outputs": [
    {
     "data": {
      "text/plain": [
       "0                                  使用Map实现PostRepository\n",
       "3                                                   添加博客\n",
       "5                                               根据ID获取博客\n",
       "7                                               根据ID删除博客\n",
       "9                                                 获取所有博客\n",
       "10     private Field checkFiledExist(String fieldName...\n",
       "11                                  完善显示博客内容方法处理博客不存在的情况\n",
       "12                                             定义第三个构造函数\n",
       "18                                             删除特定Id的博客\n",
       "21                                           根据关键字搜索博客内容\n",
       "24                                程序控制流 throws Exception\n",
       "25                                         输出斐波那契数列的第23项\n",
       "27                                 private  check(int n)\n",
       "28                                              按照作业要求输出\n",
       "32                                               定义并打印变量\n",
       "40                                               强制转换后输出\n",
       "44                                           定义并打印Char数组\n",
       "45                                      从SystemIn中读取并且输出\n",
       "50                                            获取某一天的最后一刻\n",
       "59     private Field checkPost(String fieldName, Clas...\n",
       "62     private  checkTmyPost(String fieldName, Class<...\n",
       "64                       TmyPost继承Post并添加getter和setter方法\n",
       "65     TmyPost添加成员变量head throws IllegalArgumentExcept...\n",
       "67                                        catch异常并输出异常信息\n",
       "68                     正常退出后关闭scanner throws IOException\n",
       "69            抛出错误后在finally中关闭scanner throws IOException\n",
       "70                                          获取两个参数中更大的那个\n",
       "73     static String readStringFromFile(String filePa...\n",
       "74                           覆盖模式写入文件 throws IOException\n",
       "76                           追加模式写入文件 throws IOException\n",
       "78                               读取文件 throws IOException\n",
       "80                      你在天码营的第一个Java程序 throws Exception\n",
       "81                             请返回天码营网址 throws Exception\n",
       "82                                    实例化Car并调用startup方法\n",
       "83                                                定义id属性\n",
       "86                                               正确地打印博客\n",
       "89                     HelloWorld的main函数中正确设置post对象的id属性\n",
       "94                                       完成Driver的main函数\n",
       "97                                         operation运算一次\n",
       "98                                            计算三角形的斜边边长\n",
       "102                                          复制User对象的属性\n",
       "104                                          复制Post对象的属性\n",
       "106                                         定义静态变量并进行初始化\n",
       "110                                          正确地初始化Title\n",
       "119                                    根据Id对Post数组进行升序排序\n",
       "120                                     根据Title对数组进行升序排序\n",
       "Name: title, dtype: object"
      ]
     },
     "execution_count": 186,
     "metadata": {},
     "output_type": "execute_result"
    }
   ],
   "source": [
    "assert_df.title.drop_duplicates()"
   ]
  },
  {
   "cell_type": "code",
   "execution_count": null,
   "metadata": {
    "collapsed": true
   },
   "outputs": [],
   "source": []
  },
  {
   "cell_type": "code",
   "execution_count": 130,
   "metadata": {},
   "outputs": [
    {
     "data": {
      "text/plain": [
       "{'SimpleTest.java'}"
      ]
     },
     "execution_count": 130,
     "metadata": {},
     "output_type": "execute_result"
    }
   ],
   "source": [
    "set(assert_df.fun)"
   ]
  },
  {
   "cell_type": "code",
   "execution_count": 133,
   "metadata": {},
   "outputs": [
    {
     "data": {
      "text/plain": [
       "{'car_startup',\n",
       " 'cast',\n",
       " 'copy-properties',\n",
       " 'default',\n",
       " 'end-of-day',\n",
       " 'fibonacci',\n",
       " 'file-operator',\n",
       " 'get-max',\n",
       " 'if-else',\n",
       " 'length',\n",
       " 'math',\n",
       " 'method-invoke',\n",
       " 'operator',\n",
       " 'post_print',\n",
       " 'printArray',\n",
       " 'single',\n",
       " 'stdin',\n",
       " 'task1'}"
      ]
     },
     "execution_count": 133,
     "metadata": {},
     "output_type": "execute_result"
    }
   ],
   "source": [
    "set(assert_df.question)"
   ]
  },
  {
   "cell_type": "code",
   "execution_count": null,
   "metadata": {
    "collapsed": true
   },
   "outputs": [],
   "source": []
  },
  {
   "cell_type": "code",
   "execution_count": 179,
   "metadata": {
    "collapsed": true
   },
   "outputs": [],
   "source": [
    "import re\n",
    "pattern = re.compile(\"(public|private|protected).+\\(.*\\).*\")\n",
    "def get_assert(file_path):\n",
    "    title = ''\n",
    "    assert_list = []\n",
    "    f = open(file_path, \"r\", encoding=\"utf-8\")\n",
    "    for line in f.readlines():\n",
    "        if \"Assert.\" in line:\n",
    "#             print(line.lstrip().replace(\"\\n\", \"\"))\n",
    "            tmp = []\n",
    "            tmp.append(title.replace(\"public\", \"\").replace(\"void\", \"\").replace(\"{\", \"\").replace(\"()\", \"\").replace(\"\\n\", \"\").strip())\n",
    "            tmp.append(line.lstrip().replace(\"\\n\", \"\"))\n",
    "            assert_list.append(tmp)\n",
    "        searchobj = pattern.search(line)\n",
    "        if searchobj:\n",
    "            title = searchobj.group()\n",
    "    return assert_list"
   ]
  },
  {
   "cell_type": "code",
   "execution_count": 180,
   "metadata": {},
   "outputs": [
    {
     "data": {
      "text/plain": [
       "True"
      ]
     },
     "execution_count": 180,
     "metadata": {},
     "output_type": "execute_result"
    }
   ],
   "source": [
    "tmp = \"abstract-class-and-interface\\src\\main\\java\\com\\tianmaying\"\n",
    "\"\\\\\" in tmp"
   ]
  },
  {
   "cell_type": "code",
   "execution_count": 181,
   "metadata": {},
   "outputs": [
    {
     "data": {
      "text/plain": [
       "[['使用Map实现PostRepository',\n",
       "  'Assert.assertEquals(\"实现中使用Map类型的成员变量\", 1, fields.length);'],\n",
       " ['使用Map实现PostRepository',\n",
       "  'Assert.assertEquals(\"实现中使用Map类型的成员变量\", Map.class, fields[0].getType());'],\n",
       " ['使用Map实现PostRepository',\n",
       "  'Assert.assertEquals(\"请不要修改Map类型变量的命名\", 1, fields.length);'],\n",
       " ['添加博客', 'Assert.assertEquals(\"未能正确添加博客\", size + 1, getInnerMap().size());'],\n",
       " ['添加博客', 'Assert.assertEquals(\"未能正确添加博客\", post, getInnerMap().get(id));'],\n",
       " ['根据ID获取博客',\n",
       "  'Assert.assertNull(\"未能正确获取博客\", postRepository.getPostById(-1));'],\n",
       " ['根据ID获取博客',\n",
       "  'Assert.assertEquals(\"未能正确获取博客\", getInnerMap().get(id), postRepository.getPostById(id));'],\n",
       " ['根据ID删除博客',\n",
       "  'Assert.assertEquals(\"未能正确删除博客\", size - 1, getInnerMap().size());'],\n",
       " ['根据ID删除博客',\n",
       "  'Assert.assertEquals(\"未能正确删除博客\", size - 1, getInnerMap().size());'],\n",
       " ['获取所有博客',\n",
       "  'Assert.assertEquals(\"获取博客数量不正确\", map.size(), postRepository.getAll().size());']]"
      ]
     },
     "execution_count": 181,
     "metadata": {},
     "output_type": "execute_result"
    }
   ],
   "source": [
    "path = \"./data/java-basic/string/src/test/java/com/tianmaying/SimpleTest.java\"\n",
    "path = \"./data/java-basic/abstract-class-and-interface/src/test/java/com.tianmaying/SimpleTest.java\"\n",
    "# f = open(path, \"r\", encoding=\"utf-8\")\n",
    "# f.readlines()\n",
    "get_assert(path)"
   ]
  },
  {
   "cell_type": "code",
   "execution_count": 51,
   "metadata": {},
   "outputs": [
    {
     "name": "stdout",
     "output_type": "stream",
     "text": [
      "        Assert.assertEquals(\"请按要求定义并打印Char数组\", str.toString(), baos.toString());\n"
     ]
    }
   ],
   "source": [
    "files = '''\n",
    "package com.tianmaying;\n",
    "\n",
    "import java.io.ByteArrayOutputStream;\n",
    "import java.io.PrintStream;\n",
    "\n",
    "import org.junit.After;\n",
    "import org.junit.Assert;\n",
    "import org.junit.Before;\n",
    "import org.junit.Test;\n",
    "\n",
    "public class SimpleTest {\n",
    "\n",
    "    ByteArrayOutputStream baos;\n",
    "    PrintStream old;\n",
    "\n",
    "    @Before\n",
    "    public void setup() {\n",
    "        baos = new ByteArrayOutputStream();\n",
    "        PrintStream ps = new PrintStream(baos);\n",
    "        old = System.out;\n",
    "        System.setOut(ps);\n",
    "    }\n",
    "\n",
    "    @After\n",
    "    public void clean() {\n",
    "        System.setOut(old);\n",
    "    }\n",
    "\n",
    "\n",
    "    @Test\n",
    "    public void 定义并打印Char数组() {\n",
    "        String tmy = \"www.tianmaying.com\";\n",
    "        HelloWorld.main(null);\n",
    "        System.out.flush();\n",
    "\n",
    "        StringBuffer str = new StringBuffer();\n",
    "        for (char c : tmy.toCharArray()) {\n",
    "            str.append(c);\n",
    "            str.append(\"\\n\");\n",
    "        }\n",
    "\n",
    "        Assert.assertEquals(\"请按要求定义并打印Char数组\", str.toString(), baos.toString());\n",
    "    }\n",
    "\n",
    "}\n",
    "'''\n",
    "\n",
    "for line in files.split(\"\\n\"):\n",
    "    if \"Assert.\" in line:\n",
    "        print(line)"
   ]
  },
  {
   "cell_type": "code",
   "execution_count": 156,
   "metadata": {
    "collapsed": true
   },
   "outputs": [],
   "source": []
  },
  {
   "cell_type": "code",
   "execution_count": 157,
   "metadata": {},
   "outputs": [
    {
     "data": {
      "text/plain": [
       "'public void 定义并打印Char数组() {'"
      ]
     },
     "execution_count": 157,
     "metadata": {},
     "output_type": "execute_result"
    }
   ],
   "source": [
    "searchobj = pattern.search(\"public void 定义并打印Char数组() {\")\n",
    "searchobj.group()"
   ]
  },
  {
   "cell_type": "code",
   "execution_count": 155,
   "metadata": {
    "collapsed": true
   },
   "outputs": [],
   "source": [
    "searchobj = pattern.search(\"Assert.assertEquals(\\\"请按要求定义并打印Char数组\\\", str.toString(), baos.toString())\")\n",
    "searchobj"
   ]
  },
  {
   "cell_type": "code",
   "execution_count": null,
   "metadata": {
    "collapsed": true
   },
   "outputs": [],
   "source": []
  }
 ],
 "metadata": {
  "kernelspec": {
   "display_name": "Python 3",
   "language": "python",
   "name": "python3"
  },
  "language_info": {
   "codemirror_mode": {
    "name": "ipython",
    "version": 3
   },
   "file_extension": ".py",
   "mimetype": "text/x-python",
   "name": "python",
   "nbconvert_exporter": "python",
   "pygments_lexer": "ipython3",
   "version": "3.6.1"
  }
 },
 "nbformat": 4,
 "nbformat_minor": 2
}
