{
 "cells": [
  {
   "cell_type": "markdown",
   "metadata": {},
   "source": [
    "## 可视化流程\n",
    "- 指定某个question\n",
    "- 制定某个testID code\n",
    "- 获取代码\n",
    "- 获取代码编译报错\n",
    "- 获取问题和答案"
   ]
  },
  {
   "cell_type": "code",
   "execution_count": 33,
   "metadata": {
    "collapsed": true
   },
   "outputs": [],
   "source": [
    "import pandas as pd\n",
    "import random\n",
    "import os  "
   ]
  },
  {
   "cell_type": "code",
   "execution_count": 34,
   "metadata": {
    "collapsed": true
   },
   "outputs": [],
   "source": [
    "reivews_df = pd.read_csv(\"./data/reivews_df.csv\")\n",
    "tests_result_df = pd.read_csv(\"./data/tests_result_df.csv\")\n",
    "tests_df = pd.read_csv(\"./data/tests_df.csv\")\n",
    "filepath = \"./output/\"\n",
    "files = os.listdir(filepath)  "
   ]
  },
  {
   "cell_type": "code",
   "execution_count": 73,
   "metadata": {},
   "outputs": [],
   "source": []
  },
  {
   "cell_type": "code",
   "execution_count": 82,
   "metadata": {},
   "outputs": [
    {
     "data": {
      "text/html": [
       "<div>\n",
       "<style>\n",
       "    .dataframe thead tr:only-child th {\n",
       "        text-align: right;\n",
       "    }\n",
       "\n",
       "    .dataframe thead th {\n",
       "        text-align: left;\n",
       "    }\n",
       "\n",
       "    .dataframe tbody tr th {\n",
       "        vertical-align: top;\n",
       "    }\n",
       "</style>\n",
       "<table border=\"1\" class=\"dataframe\">\n",
       "  <thead>\n",
       "    <tr style=\"text-align: right;\">\n",
       "      <th></th>\n",
       "      <th>testId</th>\n",
       "      <th>status_str</th>\n",
       "      <th>errorStack_str</th>\n",
       "      <th>content</th>\n",
       "      <th>fingerprint</th>\n",
       "    </tr>\n",
       "  </thead>\n",
       "  <tbody>\n",
       "    <tr>\n",
       "      <th>0</th>\n",
       "      <td>069cf209-a706-4b66-9d1b-244b48d25d88</td>\n",
       "      <td>0-</td>\n",
       "      <td>004-</td>\n",
       "      <td>&lt;p&gt;只要获取的是最后时间就可以了&lt;/p&gt;</td>\n",
       "      <td>0-004-</td>\n",
       "    </tr>\n",
       "    <tr>\n",
       "      <th>1</th>\n",
       "      <td>069cf209-a706-4b66-9d1b-244b48d25d88</td>\n",
       "      <td>0-</td>\n",
       "      <td>004-</td>\n",
       "      <td>&lt;pre&gt;&lt;code&gt;Calendar cal = Calendar.getInstance...</td>\n",
       "      <td>0-004-</td>\n",
       "    </tr>\n",
       "    <tr>\n",
       "      <th>2</th>\n",
       "      <td>069cf209-a706-4b66-9d1b-244b48d25d88</td>\n",
       "      <td>0-</td>\n",
       "      <td>004-</td>\n",
       "      <td>&lt;p&gt;这题有很多种方法，你可以先尝试一下Date API，只要能达到题目的要求都行&lt;/p&gt;</td>\n",
       "      <td>0-004-</td>\n",
       "    </tr>\n",
       "    <tr>\n",
       "      <th>3</th>\n",
       "      <td>03fec814-5b8d-4e77-9863-ca9fa19787e0</td>\n",
       "      <td>0-</td>\n",
       "      <td>003-</td>\n",
       "      <td>&lt;p&gt;这里的day是？&lt;/p&gt;</td>\n",
       "      <td>0-003-</td>\n",
       "    </tr>\n",
       "    <tr>\n",
       "      <th>4</th>\n",
       "      <td>03fec814-5b8d-4e77-9863-ca9fa19787e0</td>\n",
       "      <td>0-</td>\n",
       "      <td>003-</td>\n",
       "      <td>&lt;p&gt;        Date date = Date.from(zdt.toInstant...</td>\n",
       "      <td>0-003-</td>\n",
       "    </tr>\n",
       "  </tbody>\n",
       "</table>\n",
       "</div>"
      ],
      "text/plain": [
       "                                 testId status_str errorStack_str  \\\n",
       "0  069cf209-a706-4b66-9d1b-244b48d25d88         0-           004-   \n",
       "1  069cf209-a706-4b66-9d1b-244b48d25d88         0-           004-   \n",
       "2  069cf209-a706-4b66-9d1b-244b48d25d88         0-           004-   \n",
       "3  03fec814-5b8d-4e77-9863-ca9fa19787e0         0-           003-   \n",
       "4  03fec814-5b8d-4e77-9863-ca9fa19787e0         0-           003-   \n",
       "\n",
       "                                             content fingerprint  \n",
       "0                              <p>只要获取的是最后时间就可以了</p>      0-004-  \n",
       "1  <pre><code>Calendar cal = Calendar.getInstance...      0-004-  \n",
       "2      <p>这题有很多种方法，你可以先尝试一下Date API，只要能达到题目的要求都行</p>      0-004-  \n",
       "3                                    <p>这里的day是？</p>      0-003-  \n",
       "4  <p>        Date date = Date.from(zdt.toInstant...      0-003-  "
      ]
     },
     "execution_count": 82,
     "metadata": {},
     "output_type": "execute_result"
    }
   ],
   "source": [
    "codeqa_seed = random.choice(range(len(files)//2))\n",
    "answer = pd.read_csv(filepath+files[codeqa_seed*2])\n",
    "answer['fingerprint'] = answer['status_str'] + answer['errorStack_str']\n",
    "answer.head()"
   ]
  },
  {
   "cell_type": "code",
   "execution_count": 94,
   "metadata": {},
   "outputs": [
    {
     "data": {
      "text/html": [
       "<div>\n",
       "<style>\n",
       "    .dataframe thead tr:only-child th {\n",
       "        text-align: right;\n",
       "    }\n",
       "\n",
       "    .dataframe thead th {\n",
       "        text-align: left;\n",
       "    }\n",
       "\n",
       "    .dataframe tbody tr th {\n",
       "        vertical-align: top;\n",
       "    }\n",
       "</style>\n",
       "<table border=\"1\" class=\"dataframe\">\n",
       "  <thead>\n",
       "    <tr style=\"text-align: right;\">\n",
       "      <th></th>\n",
       "      <th>testId</th>\n",
       "      <th>status_str</th>\n",
       "      <th>errorStack_str</th>\n",
       "      <th>content</th>\n",
       "      <th>fingerprint</th>\n",
       "    </tr>\n",
       "  </thead>\n",
       "  <tbody>\n",
       "    <tr>\n",
       "      <th>0</th>\n",
       "      <td>069cf209-a706-4b66-9d1b-244b48d25d88</td>\n",
       "      <td>0-</td>\n",
       "      <td>004-</td>\n",
       "      <td>&lt;p&gt;只要获取的是最后时间就可以了&lt;/p&gt;</td>\n",
       "      <td>0-004-</td>\n",
       "    </tr>\n",
       "    <tr>\n",
       "      <th>1</th>\n",
       "      <td>069cf209-a706-4b66-9d1b-244b48d25d88</td>\n",
       "      <td>0-</td>\n",
       "      <td>004-</td>\n",
       "      <td>&lt;pre&gt;&lt;code&gt;Calendar cal = Calendar.getInstance...</td>\n",
       "      <td>0-004-</td>\n",
       "    </tr>\n",
       "    <tr>\n",
       "      <th>2</th>\n",
       "      <td>069cf209-a706-4b66-9d1b-244b48d25d88</td>\n",
       "      <td>0-</td>\n",
       "      <td>004-</td>\n",
       "      <td>&lt;p&gt;这题有很多种方法，你可以先尝试一下Date API，只要能达到题目的要求都行&lt;/p&gt;</td>\n",
       "      <td>0-004-</td>\n",
       "    </tr>\n",
       "    <tr>\n",
       "      <th>3</th>\n",
       "      <td>03fec814-5b8d-4e77-9863-ca9fa19787e0</td>\n",
       "      <td>0-</td>\n",
       "      <td>003-</td>\n",
       "      <td>&lt;p&gt;这里的day是？&lt;/p&gt;</td>\n",
       "      <td>0-003-</td>\n",
       "    </tr>\n",
       "    <tr>\n",
       "      <th>4</th>\n",
       "      <td>03fec814-5b8d-4e77-9863-ca9fa19787e0</td>\n",
       "      <td>0-</td>\n",
       "      <td>003-</td>\n",
       "      <td>&lt;p&gt;        Date date = Date.from(zdt.toInstant...</td>\n",
       "      <td>0-003-</td>\n",
       "    </tr>\n",
       "    <tr>\n",
       "      <th>5</th>\n",
       "      <td>69fbbfff-348d-49a2-b034-986b83acbb22</td>\n",
       "      <td>0-</td>\n",
       "      <td>004-</td>\n",
       "      <td>&lt;p&gt;你看看LocalDateTime的方法，手动去修改它的小时、分钟和时间的值&lt;br&gt;&lt;/p&gt;</td>\n",
       "      <td>0-004-</td>\n",
       "    </tr>\n",
       "    <tr>\n",
       "      <th>6</th>\n",
       "      <td>4ec7b1b5-1bf9-429e-a8bc-dd3ec5a3682d</td>\n",
       "      <td>0-</td>\n",
       "      <td>004-</td>\n",
       "      <td>&lt;p&gt;return date啊&lt;/p&gt;</td>\n",
       "      <td>0-004-</td>\n",
       "    </tr>\n",
       "    <tr>\n",
       "      <th>7</th>\n",
       "      <td>fe9f8d53-8cb3-4c11-aea6-2ccffc5ad380</td>\n",
       "      <td>1-</td>\n",
       "      <td>000-</td>\n",
       "      <td>&lt;p&gt;你说的输出，是在网站上运行时的输出，还是本地运行时的输出？&lt;/p&gt;</td>\n",
       "      <td>1-000-</td>\n",
       "    </tr>\n",
       "    <tr>\n",
       "      <th>8</th>\n",
       "      <td>fe9f8d53-8cb3-4c11-aea6-2ccffc5ad380</td>\n",
       "      <td>1-</td>\n",
       "      <td>000-</td>\n",
       "      <td>&lt;p&gt;如果是网站上的输出，可能是网站的服务器没有设置好时区的原因。&lt;/p&gt;</td>\n",
       "      <td>1-000-</td>\n",
       "    </tr>\n",
       "  </tbody>\n",
       "</table>\n",
       "</div>"
      ],
      "text/plain": [
       "                                 testId status_str errorStack_str  \\\n",
       "0  069cf209-a706-4b66-9d1b-244b48d25d88         0-           004-   \n",
       "1  069cf209-a706-4b66-9d1b-244b48d25d88         0-           004-   \n",
       "2  069cf209-a706-4b66-9d1b-244b48d25d88         0-           004-   \n",
       "3  03fec814-5b8d-4e77-9863-ca9fa19787e0         0-           003-   \n",
       "4  03fec814-5b8d-4e77-9863-ca9fa19787e0         0-           003-   \n",
       "5  69fbbfff-348d-49a2-b034-986b83acbb22         0-           004-   \n",
       "6  4ec7b1b5-1bf9-429e-a8bc-dd3ec5a3682d         0-           004-   \n",
       "7  fe9f8d53-8cb3-4c11-aea6-2ccffc5ad380         1-           000-   \n",
       "8  fe9f8d53-8cb3-4c11-aea6-2ccffc5ad380         1-           000-   \n",
       "\n",
       "                                             content fingerprint  \n",
       "0                              <p>只要获取的是最后时间就可以了</p>      0-004-  \n",
       "1  <pre><code>Calendar cal = Calendar.getInstance...      0-004-  \n",
       "2      <p>这题有很多种方法，你可以先尝试一下Date API，只要能达到题目的要求都行</p>      0-004-  \n",
       "3                                    <p>这里的day是？</p>      0-003-  \n",
       "4  <p>        Date date = Date.from(zdt.toInstant...      0-003-  \n",
       "5   <p>你看看LocalDateTime的方法，手动去修改它的小时、分钟和时间的值<br></p>      0-004-  \n",
       "6                                <p>return date啊</p>      0-004-  \n",
       "7               <p>你说的输出，是在网站上运行时的输出，还是本地运行时的输出？</p>      1-000-  \n",
       "8              <p>如果是网站上的输出，可能是网站的服务器没有设置好时区的原因。</p>      1-000-  "
      ]
     },
     "execution_count": 94,
     "metadata": {},
     "output_type": "execute_result"
    }
   ],
   "source": [
    "answer"
   ]
  },
  {
   "cell_type": "code",
   "execution_count": 83,
   "metadata": {},
   "outputs": [
    {
     "data": {
      "text/html": [
       "<div>\n",
       "<style>\n",
       "    .dataframe thead tr:only-child th {\n",
       "        text-align: right;\n",
       "    }\n",
       "\n",
       "    .dataframe thead th {\n",
       "        text-align: left;\n",
       "    }\n",
       "\n",
       "    .dataframe tbody tr th {\n",
       "        vertical-align: top;\n",
       "    }\n",
       "</style>\n",
       "<table border=\"1\" class=\"dataframe\">\n",
       "  <thead>\n",
       "    <tr style=\"text-align: right;\">\n",
       "      <th></th>\n",
       "      <th>testId</th>\n",
       "      <th>status_str</th>\n",
       "      <th>errorStack_str</th>\n",
       "      <th>content</th>\n",
       "    </tr>\n",
       "  </thead>\n",
       "  <tbody>\n",
       "    <tr>\n",
       "      <th>0</th>\n",
       "      <td>069cf209-a706-4b66-9d1b-244b48d25d88</td>\n",
       "      <td>0-</td>\n",
       "      <td>004-</td>\n",
       "      <td>&lt;p&gt;这个应该是Date转成LocalDateTime再操作还是先操作再转换成Date输出？...</td>\n",
       "    </tr>\n",
       "    <tr>\n",
       "      <th>1</th>\n",
       "      <td>069cf209-a706-4b66-9d1b-244b48d25d88</td>\n",
       "      <td>0-</td>\n",
       "      <td>004-</td>\n",
       "      <td>&lt;p&gt;提示不是说Date不能直接操作么。&lt;/p&gt;</td>\n",
       "    </tr>\n",
       "    <tr>\n",
       "      <th>2</th>\n",
       "      <td>cb67a476-4f1c-43ad-bf8c-2a5e870047bc</td>\n",
       "      <td>1-</td>\n",
       "      <td>000-</td>\n",
       "      <td>&lt;p&gt;导了几个包终于通过了...建议在作业原始代码默认导入这几个包...&lt;/p&gt;&lt;p&gt;&lt;br...</td>\n",
       "    </tr>\n",
       "    <tr>\n",
       "      <th>3</th>\n",
       "      <td>20bf7f37-c90a-42f3-948c-5ac69f864e5a</td>\n",
       "      <td>1-</td>\n",
       "      <td>000-</td>\n",
       "      <td>&lt;p&gt;老师，你好。这里打印的是当前时间，正常是北京时区UTC，但结果怎么不对，少了8个小时。...</td>\n",
       "    </tr>\n",
       "    <tr>\n",
       "      <th>4</th>\n",
       "      <td>fe9f8d53-8cb3-4c11-aea6-2ccffc5ad380</td>\n",
       "      <td>1-</td>\n",
       "      <td>000-</td>\n",
       "      <td>&lt;p&gt;这里输出的时间正好与北京时间刚好差了8个小时，并不是系统显示的北京的八区时间，是为什么...</td>\n",
       "    </tr>\n",
       "  </tbody>\n",
       "</table>\n",
       "</div>"
      ],
      "text/plain": [
       "                                 testId status_str errorStack_str  \\\n",
       "0  069cf209-a706-4b66-9d1b-244b48d25d88         0-           004-   \n",
       "1  069cf209-a706-4b66-9d1b-244b48d25d88         0-           004-   \n",
       "2  cb67a476-4f1c-43ad-bf8c-2a5e870047bc         1-           000-   \n",
       "3  20bf7f37-c90a-42f3-948c-5ac69f864e5a         1-           000-   \n",
       "4  fe9f8d53-8cb3-4c11-aea6-2ccffc5ad380         1-           000-   \n",
       "\n",
       "                                             content  \n",
       "0  <p>这个应该是Date转成LocalDateTime再操作还是先操作再转换成Date输出？...  \n",
       "1                           <p>提示不是说Date不能直接操作么。</p>  \n",
       "2  <p>导了几个包终于通过了...建议在作业原始代码默认导入这几个包...</p><p><br...  \n",
       "3  <p>老师，你好。这里打印的是当前时间，正常是北京时区UTC，但结果怎么不对，少了8个小时。...  \n",
       "4  <p>这里输出的时间正好与北京时间刚好差了8个小时，并不是系统显示的北京的八区时间，是为什么...  "
      ]
     },
     "execution_count": 83,
     "metadata": {},
     "output_type": "execute_result"
    }
   ],
   "source": [
    "question = pd.read_csv(filepath+files[codeqa_seed*2+1])\n",
    "question.head()"
   ]
  },
  {
   "cell_type": "code",
   "execution_count": 84,
   "metadata": {},
   "outputs": [
    {
     "data": {
      "text/plain": [
       "array(['069cf209-a706-4b66-9d1b-244b48d25d88',\n",
       "       '03fec814-5b8d-4e77-9863-ca9fa19787e0',\n",
       "       '69fbbfff-348d-49a2-b034-986b83acbb22',\n",
       "       '4ec7b1b5-1bf9-429e-a8bc-dd3ec5a3682d',\n",
       "       'fe9f8d53-8cb3-4c11-aea6-2ccffc5ad380'], dtype=object)"
      ]
     },
     "execution_count": 84,
     "metadata": {},
     "output_type": "execute_result"
    }
   ],
   "source": [
    "testid_list = answer.testId.drop_duplicates().values\n",
    "testid_list"
   ]
  },
  {
   "cell_type": "code",
   "execution_count": 85,
   "metadata": {
    "collapsed": true
   },
   "outputs": [],
   "source": [
    "testid = random.choice(testid_list)"
   ]
  },
  {
   "cell_type": "code",
   "execution_count": 86,
   "metadata": {},
   "outputs": [
    {
     "name": "stdout",
     "output_type": "stream",
     "text": [
      "./data/test-codes/69fbbfff-348d-49a2-b034-986b83acbb22/DateUtils.java\n",
      "package com.tianmaying;\n",
      "\n",
      "import java.util.Date;\n",
      "import java.time.LocalDate;\n",
      "import java.time.Month;\n",
      "import java.time.ZoneId;\n",
      "\n",
      "\n",
      "public class DateUtils {\n",
      "    \n",
      "    public static Date getEndOfDay(Date day) {\n",
      "        // your code here\n",
      "        int year = day.getYear();\n",
      "\n",
      "        return day;\n",
      "    }\n",
      "    \n",
      "    public static void main(String[] args) {\n",
      "        System.out.println(new Date());\n",
      "        System.out.println(getEndOfDay(new Date()));\n",
      "    }\n",
      "\n",
      "}\n"
     ]
    }
   ],
   "source": [
    "filepath = \"./data/test-codes/\"\n",
    "files = os.listdir(filepath + testid)  \n",
    "for fi in files:    \n",
    "    path = filepath + testid + \"/\" + fi\n",
    "    print(path)\n",
    "    f = open(path, \"r\", encoding=\"utf-8\")\n",
    "    for line in f.readlines():\n",
    "        print(line, end=\"\")\n",
    "#     fi_d = os.path.join(filepath,fi)   "
   ]
  },
  {
   "cell_type": "code",
   "execution_count": 87,
   "metadata": {},
   "outputs": [
    {
     "data": {
      "text/html": [
       "<div>\n",
       "<style>\n",
       "    .dataframe thead tr:only-child th {\n",
       "        text-align: right;\n",
       "    }\n",
       "\n",
       "    .dataframe thead th {\n",
       "        text-align: left;\n",
       "    }\n",
       "\n",
       "    .dataframe tbody tr th {\n",
       "        vertical-align: top;\n",
       "    }\n",
       "</style>\n",
       "<table border=\"1\" class=\"dataframe\">\n",
       "  <thead>\n",
       "    <tr style=\"text-align: right;\">\n",
       "      <th></th>\n",
       "      <th>testId</th>\n",
       "      <th>status_str</th>\n",
       "      <th>errorStack_str</th>\n",
       "      <th>content</th>\n",
       "    </tr>\n",
       "  </thead>\n",
       "  <tbody>\n",
       "  </tbody>\n",
       "</table>\n",
       "</div>"
      ],
      "text/plain": [
       "Empty DataFrame\n",
       "Columns: [testId, status_str, errorStack_str, content]\n",
       "Index: []"
      ]
     },
     "execution_count": 87,
     "metadata": {},
     "output_type": "execute_result"
    }
   ],
   "source": [
    "question[question.testId == testid]"
   ]
  },
  {
   "cell_type": "code",
   "execution_count": 88,
   "metadata": {},
   "outputs": [
    {
     "data": {
      "text/html": [
       "<div>\n",
       "<style>\n",
       "    .dataframe thead tr:only-child th {\n",
       "        text-align: right;\n",
       "    }\n",
       "\n",
       "    .dataframe thead th {\n",
       "        text-align: left;\n",
       "    }\n",
       "\n",
       "    .dataframe tbody tr th {\n",
       "        vertical-align: top;\n",
       "    }\n",
       "</style>\n",
       "<table border=\"1\" class=\"dataframe\">\n",
       "  <thead>\n",
       "    <tr style=\"text-align: right;\">\n",
       "      <th></th>\n",
       "      <th>testId</th>\n",
       "      <th>status_str</th>\n",
       "      <th>errorStack_str</th>\n",
       "      <th>content</th>\n",
       "      <th>fingerprint</th>\n",
       "    </tr>\n",
       "  </thead>\n",
       "  <tbody>\n",
       "    <tr>\n",
       "      <th>5</th>\n",
       "      <td>69fbbfff-348d-49a2-b034-986b83acbb22</td>\n",
       "      <td>0-</td>\n",
       "      <td>004-</td>\n",
       "      <td>&lt;p&gt;你看看LocalDateTime的方法，手动去修改它的小时、分钟和时间的值&lt;br&gt;&lt;/p&gt;</td>\n",
       "      <td>0-004-</td>\n",
       "    </tr>\n",
       "  </tbody>\n",
       "</table>\n",
       "</div>"
      ],
      "text/plain": [
       "                                 testId status_str errorStack_str  \\\n",
       "5  69fbbfff-348d-49a2-b034-986b83acbb22         0-           004-   \n",
       "\n",
       "                                            content fingerprint  \n",
       "5  <p>你看看LocalDateTime的方法，手动去修改它的小时、分钟和时间的值<br></p>      0-004-  "
      ]
     },
     "execution_count": 88,
     "metadata": {},
     "output_type": "execute_result"
    }
   ],
   "source": [
    "answer_id = answer[answer.testId == testid]\n",
    "answer_id"
   ]
  },
  {
   "cell_type": "code",
   "execution_count": 89,
   "metadata": {},
   "outputs": [
    {
     "name": "stdout",
     "output_type": "stream",
     "text": [
      "0-004-\n",
      "<p>你看看LocalDateTime的方法，手动去修改它的小时、分钟和时间的值<br></p>\n"
     ]
    }
   ],
   "source": [
    "fingerprint = answer_id['fingerprint'].drop_duplicates().values\n",
    "for fp in fingerprint:\n",
    "    print(fp)\n",
    "    content_id = answer_id[answer_id.fingerprint == fp]['content'].values\n",
    "    for c in content_id:\n",
    "        print(c)"
   ]
  },
  {
   "cell_type": "code",
   "execution_count": 90,
   "metadata": {},
   "outputs": [
    {
     "name": "stdout",
     "output_type": "stream",
     "text": [
      "0-\n",
      "<p>你看看LocalDateTime的方法，手动去修改它的小时、分钟和时间的值<br></p>\n"
     ]
    }
   ],
   "source": [
    "fingerprint = answer_id['status_str'].drop_duplicates().values\n",
    "for fp in fingerprint:\n",
    "    print(fp)\n",
    "    content_id = answer_id[answer_id.status_str == fp]['content'].values\n",
    "    for c in content_id:\n",
    "        print(c)"
   ]
  },
  {
   "cell_type": "code",
   "execution_count": 91,
   "metadata": {},
   "outputs": [
    {
     "name": "stdout",
     "output_type": "stream",
     "text": [
      "004-\n",
      "<p>你看看LocalDateTime的方法，手动去修改它的小时、分钟和时间的值<br></p>\n"
     ]
    }
   ],
   "source": [
    "fingerprint = answer_id['errorStack_str'].drop_duplicates().values\n",
    "for fp in fingerprint:\n",
    "    print(fp)\n",
    "    content_id = answer_id[answer_id.errorStack_str == fp]['content'].values\n",
    "    for c in content_id:\n",
    "        print(c)"
   ]
  },
  {
   "cell_type": "code",
   "execution_count": 92,
   "metadata": {},
   "outputs": [
    {
     "name": "stdout",
     "output_type": "stream",
     "text": [
      "course: java-basic lesson: date question: end-of-day\n",
      "tester: xsj931025 status: failure\n",
      "compileErrStack: nan\n"
     ]
    }
   ],
   "source": [
    "compile_pd = tests_df[tests_df.id == testid][['tester','course','lesson','question','status','compileErrStack']]\n",
    "for line in compile_pd.values:\n",
    "    print(\"course:\", line[1], \"lesson:\", line[2], \"question:\", line[3])\n",
    "    print(\"tester:\", line[0], \"status:\", line[4])\n",
    "    print(\"compileErrStack:\", line[5])"
   ]
  },
  {
   "cell_type": "code",
   "execution_count": 93,
   "metadata": {},
   "outputs": [
    {
     "name": "stdout",
     "output_type": "stream",
     "text": [
      "------------------------\n",
      "获取某一天的最后一刻\n",
      "- - - - - - - - - - - - -\n",
      "输入日期：Sun May 14 03:51:54 UTC 2017\n",
      "期待的返回日期：Sun May 14 23:59:59 UTC 2017\n",
      "你的返回日期：Sun May 14 03:51:54 UTC 2017\n",
      "\n",
      "- - - - - - - - - - - - -\n",
      "java.lang.AssertionError: 输入日期：Sun May 14 03:51:54 UTC 2017\n",
      "期待的返回日期：Sun May 14 23:59:59 UTC 2017\n",
      "你的返回日期：Sun May 14 03:51:54 UTC 2017\n",
      "\tat org.junit.Assert.fail(Assert.java:88)\n",
      "\tat com.tianmaying.SimpleTest.获取某一天的最后一刻(SimpleTest.java:44)\n",
      "\tat sun.reflect.NativeMethodAccessorImpl.invoke0(Native Method)\n",
      "\tat sun.reflect.NativeMethodAccessorImpl.invoke(NativeMethodAccessorImpl.java:62)\n",
      "\tat sun.reflect.DelegatingMethodAccessorImpl.invoke(DelegatingMethodAccessorImpl.java:43)\n",
      "\tat java.lang.reflect.Method.invoke(Method.java:498)\n",
      "\tat org.junit.runners.model.FrameworkMethod$1.runReflectiveCall(FrameworkMethod.java:50)\n",
      "\tat org.junit.internal.runners.model.ReflectiveCallable.run(ReflectiveCallable.java:12)\n",
      "\tat org.junit.runners.model.FrameworkMethod.invokeExplosively(FrameworkMethod.java:47)\n",
      "\tat org.junit.internal.runners.statements.InvokeMethod.evaluate(InvokeMethod.java:17)\n",
      "\tat org.junit.runners.ParentRunner.runLeaf(ParentRunner.java:325)\n",
      "\tat org.junit.runners.BlockJUnit4ClassRunner.runChild(BlockJUnit4ClassRunner.java:78)\n",
      "\tat org.junit.runners.BlockJUnit4ClassRunner.runChild(BlockJUnit4ClassRunner.java:57)\n",
      "\tat org.junit.runners.ParentRunner$3.run(ParentRunner.java:290)\n",
      "\tat org.junit.runners.ParentRunner$1.schedule(ParentRunner.java:71)\n",
      "\tat org.junit.runners.ParentRunner.runChildren(ParentRunner.java:288)\n",
      "\tat org.junit.runners.ParentRunner.access$000(ParentRunner.java:58)\n",
      "\tat org.junit.runners.ParentRunner$2.evaluate(ParentRunner.java:268)\n",
      "\tat org.junit.runners.ParentRunner.run(ParentRunner.java:363)\n",
      "\tat org.junit.runners.Suite.runChild(Suite.java:128)\n",
      "\tat org.junit.runners.Suite.runChild(Suite.java:27)\n",
      "\tat org.junit.runners.ParentRunner$3.run(ParentRunner.java:290)\n",
      "\tat org.junit.runners.ParentRunner$1.schedule(ParentRunner.java:71)\n",
      "\tat org.junit.runners.ParentRunner.runChildren(ParentRunner.java:288)\n",
      "\tat org.junit.runners.ParentRunner.access$000(ParentRunner.java:58)\n",
      "\tat org.junit.runners.ParentRunner$2.evaluate(ParentRunner.java:268)\n",
      "\tat org.junit.runners.ParentRunner.run(ParentRunner.java:363)\n",
      "\tat org.junit.runner.JUnitCore.run(JUnitCore.java:137)\n",
      "\tat org.junit.runner.JUnitCore.run(JUnitCore.java:115)\n",
      "\tat org.junit.runner.JUnitCore.run(JUnitCore.java:105)\n",
      "\tat org.junit.runner.JUnitCore.run(JUnitCore.java:94)\n",
      "\tat com.tianmaying.TmyJunitRunner.runMain(TmyJunitRunner.java:31)\n",
      "\tat com.tianmaying.TmyJunitRunner.main(TmyJunitRunner.java:15)\n",
      "\n",
      "------------------------\n"
     ]
    }
   ],
   "source": [
    "result_pd = tests_result_df[tests_result_df.testId == testid]\n",
    "tmp = result_pd[['title','errMessage','errStack']]\n",
    "for line in tmp.values:\n",
    "    print('------------------------')\n",
    "    print(line[0])\n",
    "    print('- - - - - - - - - - - - -')\n",
    "    print(line[1])\n",
    "    print('- - - - - - - - - - - - -')\n",
    "    print(line[2])\n",
    "    print('------------------------')\n",
    "#     print()"
   ]
  },
  {
   "cell_type": "code",
   "execution_count": null,
   "metadata": {
    "collapsed": true
   },
   "outputs": [],
   "source": []
  }
 ],
 "metadata": {
  "kernelspec": {
   "display_name": "Python 3",
   "language": "python",
   "name": "python3"
  },
  "language_info": {
   "codemirror_mode": {
    "name": "ipython",
    "version": 3
   },
   "file_extension": ".py",
   "mimetype": "text/x-python",
   "name": "python",
   "nbconvert_exporter": "python",
   "pygments_lexer": "ipython3",
   "version": "3.6.1"
  }
 },
 "nbformat": 4,
 "nbformat_minor": 2
}
